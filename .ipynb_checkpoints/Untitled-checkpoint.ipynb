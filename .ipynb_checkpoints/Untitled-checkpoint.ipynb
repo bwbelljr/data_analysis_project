{
 "cells": [
  {
   "cell_type": "code",
   "execution_count": 2,
   "metadata": {},
   "outputs": [],
   "source": [
    "# Representing a CSV as a list of rows\n",
    "\n",
    "# Option 1: Each row is a list\n",
    "\n",
    "csv = [['A1', 'A2', 'A3'],\n",
    "       ['B1', 'B2', 'B3']]\n",
    "\n",
    "# Option 2: Each row is a dictionary\n",
    "# Works well if CSV has a header, as keys of dictionary can be\n",
    "# column names\n",
    "\n",
    "csv = [{'name1':'A1', 'name2':'A2', 'name3':'A3'},\n",
    "       {'name1':'B1', 'name2':'B2', 'name3':'B3'}]"
   ]
  },
  {
   "cell_type": "code",
   "execution_count": 12,
   "metadata": {},
   "outputs": [
    {
     "data": {
      "text/plain": [
       "OrderedDict([('account_key', '448'),\n",
       "             ('status', 'canceled'),\n",
       "             ('join_date', '2014-11-10'),\n",
       "             ('cancel_date', '2015-01-14'),\n",
       "             ('days_to_cancel', '65'),\n",
       "             ('is_udacity', 'True'),\n",
       "             ('is_canceled', 'True')])"
      ]
     },
     "execution_count": 12,
     "metadata": {},
     "output_type": "execute_result"
    }
   ],
   "source": [
    "import unicodecsv\n",
    "\n",
    "# See if I need unicodecsv for Python 3\n",
    "\n",
    "enrollments = [] # create list of enrollments\n",
    "f = open('enrollments.csv', 'rb') # open file (binary mode)\n",
    "reader = unicodecsv.DictReader(f) # each row is a dictionary\n",
    "\n",
    "# reader will not actually be a list of rows\n",
    "# Instead reader will be something called an iterator\n",
    "# Iterator lets you write a for loop to access each element\n",
    "# but only once\n",
    "\n",
    "for row in reader:\n",
    "    enrollments.append(row) # append each row to a list\n",
    "    \n",
    "# since you can only loop over an iterator once, you cannot\n",
    "# write a loop to print row. I don't currently understand...\n",
    "    \n",
    "f.close() # close file\n",
    "\n",
    "enrollments[0] # print first record"
   ]
  },
  {
   "cell_type": "code",
   "execution_count": 13,
   "metadata": {},
   "outputs": [
    {
     "data": {
      "text/plain": [
       "OrderedDict([('account_key', '448'),\n",
       "             ('status', 'canceled'),\n",
       "             ('join_date', '2014-11-10'),\n",
       "             ('cancel_date', '2015-01-14'),\n",
       "             ('days_to_cancel', '65'),\n",
       "             ('is_udacity', 'True'),\n",
       "             ('is_canceled', 'True')])"
      ]
     },
     "execution_count": 13,
     "metadata": {},
     "output_type": "execute_result"
    }
   ],
   "source": [
    "# Alternative approach using \"with\" statement\n",
    "# We can avoid having to close the file by using with statement\n",
    "# however, everything we do in accessing the file should be \n",
    "# indented in the \"with\" code block \n",
    "\n",
    "import unicodecsv\n",
    "\n",
    "enrollments = []\n",
    "with open('enrollments.csv', 'rb') as f:\n",
    "    reader = unicodecsv.DictReader(f)\n",
    "\n",
    "    for row in reader:\n",
    "        enrollments.append(row)\n",
    "\n",
    "enrollments[0]"
   ]
  },
  {
   "cell_type": "code",
   "execution_count": 9,
   "metadata": {},
   "outputs": [
    {
     "data": {
      "text/plain": [
       "OrderedDict([('account_key', '448'),\n",
       "             ('status', 'canceled'),\n",
       "             ('join_date', '2014-11-10'),\n",
       "             ('cancel_date', '2015-01-14'),\n",
       "             ('days_to_cancel', '65'),\n",
       "             ('is_udacity', 'True'),\n",
       "             ('is_canceled', 'True')])"
      ]
     },
     "execution_count": 9,
     "metadata": {},
     "output_type": "execute_result"
    }
   ],
   "source": [
    "# Alternative Approach #3\n",
    "# easier way to convert an iterator to a list\n",
    "\n",
    "import unicodecsv\n",
    "\n",
    "with open('enrollments.csv', 'rb') as f:\n",
    "    reader = unicodecsv.DictReader(f)\n",
    "    enrollments = list(reader)\n",
    "    # by calling list of reader, we created a list of the \n",
    "    # enrollment data without having to write a loop\n",
    "\n",
    "enrollments[0]"
   ]
  },
  {
   "cell_type": "code",
   "execution_count": 17,
   "metadata": {},
   "outputs": [
    {
     "name": "stdout",
     "output_type": "stream",
     "text": [
      "OrderedDict([('acct', '0'), ('utc_date', '2015-01-09'), ('num_courses_visited', '1.0'), ('total_minutes_visited', '11.6793745'), ('lessons_completed', '0.0'), ('projects_completed', '0.0')])\n",
      "OrderedDict([('creation_date', '2015-01-14'), ('completion_date', '2015-01-16'), ('assigned_rating', 'UNGRADED'), ('account_key', '256'), ('lesson_key', '3176718735'), ('processing_state', 'EVALUATED')])\n"
     ]
    }
   ],
   "source": [
    "##############################################\n",
    "#                     1                      #\n",
    "##############################################\n",
    "\n",
    "## Read in the data from daily_engagement.csv and project_submissions.csv\n",
    "## and store the results in the below variables.\n",
    "## Then look at the firts row of each table.\n",
    "\n",
    "def open_file(file_name):\n",
    "    with open(file_name, 'rb') as f:\n",
    "        reader = unicodecsv.DictReader(f)\n",
    "        return list(reader)\n",
    "\n",
    "daily_engagement = open_file('daily-engagement.csv')\n",
    "\n",
    "project_submissions = open_file('project-submissions.csv')\n",
    "\n",
    "print(daily_engagement[0])\n",
    "print(project_submissions[0])"
   ]
  },
  {
   "cell_type": "code",
   "execution_count": null,
   "metadata": {},
   "outputs": [],
   "source": []
  }
 ],
 "metadata": {
  "kernelspec": {
   "display_name": "Python [default]",
   "language": "python",
   "name": "python3"
  },
  "language_info": {
   "codemirror_mode": {
    "name": "ipython",
    "version": 3
   },
   "file_extension": ".py",
   "mimetype": "text/x-python",
   "name": "python",
   "nbconvert_exporter": "python",
   "pygments_lexer": "ipython3",
   "version": "3.6.5"
  }
 },
 "nbformat": 4,
 "nbformat_minor": 2
}
